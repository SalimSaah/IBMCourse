{
 "cells": [
  {
   "cell_type": "markdown",
   "id": "54eddb64-6a87-402e-8e40-a6e5a9cd8c16",
   "metadata": {},
   "source": [
    "# Data Science Tools and Ecosystem"
   ]
  },
  {
   "cell_type": "markdown",
   "id": "2b7fe386-6e93-4c7b-8c37-ab8cfc0c87e5",
   "metadata": {},
   "source": [
    "Welcome to an interesting jupyter notebook in which Data Science Tools and Ecosystems are summarized in a comprehensive and entertaining way."
   ]
  },
  {
   "cell_type": "markdown",
   "id": "3c4415a6-d171-4421-b458-71bd45d31aa0",
   "metadata": {},
   "source": [
    "**Objectives:** <br>\n",
    "* List some popular languages for data scientists <br>\n",
    "* Learn about some popular libraries used by data scientists <br>\n",
    "* Know about  the best development environment open source tools used in data science <br>\n",
    "* Learn how to do basic operations in python <br>\n"
   ]
  },
  {
   "cell_type": "markdown",
   "id": "c4f35d7f-6e41-4810-80eb-03b70d013a0c",
   "metadata": {},
   "source": [
    "Some of the popular languages that Data Scientists use are: <br> 1. Python <br> 2. R <br> 3. Julia <br> 4. JavaScript <br> 5. SQL <br> 6. Many, many more..."
   ]
  },
  {
   "cell_type": "markdown",
   "id": "620bd897-8d1d-4439-a5ab-be96c246c5ad",
   "metadata": {},
   "source": [
    "Some of the commonly used libraries used by Data Scientists include: <br> 1. numpy <br> 2. matplotlib <br> 3. scikit-learn <br> 4. pandas <br> 5. tensorflow <br> 6. beatifulsoup <br> 7. scipy"
   ]
  },
  {
   "cell_type": "markdown",
   "id": "9e4d35d8-d692-408f-a8a4-40437f80d51b",
   "metadata": {},
   "source": [
    "| Data Science Tools | \n",
    "|--------|\n",
    "| Jupyter Notebook |\n",
    "| Apache Hadoop |\n",
    "| Google Coolab |\n"
   ]
  },
  {
   "cell_type": "markdown",
   "id": "c4683589-ffa1-48ec-ab82-1767e48fa7fe",
   "metadata": {},
   "source": [
    "### Below are a few examples of evaluating arithmetic expressions in Python"
   ]
  },
  {
   "cell_type": "code",
   "execution_count": 1,
   "id": "3a1f7b4e-a9a3-4e71-843a-9280ce66d8a3",
   "metadata": {},
   "outputs": [
    {
     "data": {
      "text/plain": [
       "4"
      ]
     },
     "execution_count": 1,
     "metadata": {},
     "output_type": "execute_result"
    }
   ],
   "source": [
    "2+2"
   ]
  },
  {
   "cell_type": "code",
   "execution_count": 3,
   "id": "d3c9395d-3023-4e83-aa97-4b03bec2c945",
   "metadata": {},
   "outputs": [
    {
     "data": {
      "text/plain": [
       "0.6666666666666666"
      ]
     },
     "execution_count": 3,
     "metadata": {},
     "output_type": "execute_result"
    }
   ],
   "source": [
    "2/3"
   ]
  },
  {
   "cell_type": "code",
   "execution_count": 4,
   "id": "7a617d78-ffcd-4924-bfc1-9b340a9ef223",
   "metadata": {},
   "outputs": [
    {
     "data": {
      "text/plain": [
       "0"
      ]
     },
     "execution_count": 4,
     "metadata": {},
     "output_type": "execute_result"
    }
   ],
   "source": [
    "2//3"
   ]
  },
  {
   "cell_type": "code",
   "execution_count": 6,
   "id": "ed686f13-3814-45b7-8ed9-97d447dc943b",
   "metadata": {},
   "outputs": [
    {
     "data": {
      "text/plain": [
       "36"
      ]
     },
     "execution_count": 6,
     "metadata": {},
     "output_type": "execute_result"
    }
   ],
   "source": [
    "-(4-16)*3"
   ]
  },
  {
   "cell_type": "markdown",
   "id": "2f5b3bc4-0fd0-40b7-9330-afbf78924230",
   "metadata": {},
   "source": [
    "### This a simple arithmetic expression to mutiply then add integers"
   ]
  },
  {
   "cell_type": "code",
   "execution_count": 7,
   "id": "e111f218-ef56-4bca-b560-c952cc89f0b7",
   "metadata": {},
   "outputs": [
    {
     "data": {
      "text/plain": [
       "17"
      ]
     },
     "execution_count": 7,
     "metadata": {},
     "output_type": "execute_result"
    }
   ],
   "source": [
    "(3*4)+5"
   ]
  },
  {
   "cell_type": "code",
   "execution_count": 9,
   "id": "89011d8b-b115-4ee0-99a9-28873be25189",
   "metadata": {},
   "outputs": [
    {
     "name": "stdout",
     "output_type": "stream",
     "text": [
      "3.3333333333333335\n"
     ]
    }
   ],
   "source": [
    "#This will convert 200 minutes to hours by diving by 60\n",
    "\n",
    "minutes = 200\n",
    "hours = minutes / 60\n",
    "print(hours)"
   ]
  },
  {
   "cell_type": "markdown",
   "id": "7981ebfe-9096-455e-a27f-1972de3014ae",
   "metadata": {},
   "source": [
    "## Author\n",
    "Salim Mauricio Saah López"
   ]
  },
  {
 "metadata": {
  "kernelspec": {
   "display_name": "Python 3 (ipykernel)",
   "language": "python",
   "name": "python3"
  },
  "language_info": {
   "codemirror_mode": {
    "name": "ipython",
    "version": 3
   },
   "file_extension": ".py",
   "mimetype": "text/x-python",
   "name": "python",
   "nbconvert_exporter": "python",
   "pygments_lexer": "ipython3",
   "version": "3.11.9"
  }
 },
 "nbformat": 4,
 "nbformat_minor": 5
}
